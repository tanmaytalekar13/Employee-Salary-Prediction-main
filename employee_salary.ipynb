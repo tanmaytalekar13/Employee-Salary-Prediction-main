{
 "cells": [
  {
   "cell_type": "markdown",
   "id": "a9dd40de",
   "metadata": {},
   "source": [
    "# LOAD LIBRARIES"
   ]
  },
  {
   "cell_type": "code",
   "execution_count": 188,
   "id": "eb6a5a76",
   "metadata": {},
   "outputs": [],
   "source": [
    "import numpy as np\n",
    "import pandas as pd\n",
    "import scipy.stats as stats\n",
    "import matplotlib.pyplot as plt\n",
    "from sklearn.preprocessing import StandardScaler, LabelEncoder\n",
    "from sklearn.model_selection import train_test_split\n",
    "from sklearn.neighbors import KNeighborsRegressor\n",
    "from sklearn.tree import DecisionTreeRegressor\n",
    "from sklearn.ensemble import RandomForestRegressor\n",
    "from sklearn.ensemble import GradientBoostingRegressor\n",
    "from sklearn.metrics import mean_squared_error,mean_absolute_error,r2_score\n",
    "import joblib"
   ]
  },
  {
   "cell_type": "markdown",
   "id": "56c20934",
   "metadata": {},
   "source": [
    "# DATA LOADING"
   ]
  },
  {
   "cell_type": "code",
   "execution_count": 189,
   "id": "e6baf3c4",
   "metadata": {},
   "outputs": [],
   "source": [
    "df = pd.read_csv('salary_data.csv')"
   ]
  },
  {
   "cell_type": "code",
   "execution_count": 190,
   "id": "3bb3e034",
   "metadata": {},
   "outputs": [
    {
     "data": {
      "text/html": [
       "<div>\n",
       "<style scoped>\n",
       "    .dataframe tbody tr th:only-of-type {\n",
       "        vertical-align: middle;\n",
       "    }\n",
       "\n",
       "    .dataframe tbody tr th {\n",
       "        vertical-align: top;\n",
       "    }\n",
       "\n",
       "    .dataframe thead th {\n",
       "        text-align: right;\n",
       "    }\n",
       "</style>\n",
       "<table border=\"1\" class=\"dataframe\">\n",
       "  <thead>\n",
       "    <tr style=\"text-align: right;\">\n",
       "      <th></th>\n",
       "      <th>Job_Title</th>\n",
       "      <th>Industry</th>\n",
       "      <th>Education_Level</th>\n",
       "      <th>Years_of_Experience</th>\n",
       "      <th>Age</th>\n",
       "      <th>Gender</th>\n",
       "      <th>Marital_Status</th>\n",
       "      <th>Location</th>\n",
       "      <th>Hours_Per_Week</th>\n",
       "      <th>Work_Mode</th>\n",
       "      <th>Company_Size</th>\n",
       "      <th>Salary</th>\n",
       "    </tr>\n",
       "  </thead>\n",
       "  <tbody>\n",
       "    <tr>\n",
       "      <th>0</th>\n",
       "      <td>Graphic Designer</td>\n",
       "      <td>Marketing</td>\n",
       "      <td>Master's</td>\n",
       "      <td>19.0</td>\n",
       "      <td>39.0</td>\n",
       "      <td>Male</td>\n",
       "      <td>Married</td>\n",
       "      <td>Chicago</td>\n",
       "      <td>72.0</td>\n",
       "      <td>On-site</td>\n",
       "      <td>Large</td>\n",
       "      <td>2261929</td>\n",
       "    </tr>\n",
       "    <tr>\n",
       "      <th>1</th>\n",
       "      <td>Project Manager</td>\n",
       "      <td>Consulting</td>\n",
       "      <td>High School</td>\n",
       "      <td>24.0</td>\n",
       "      <td>42.0</td>\n",
       "      <td>Male</td>\n",
       "      <td>Married</td>\n",
       "      <td>Dallas</td>\n",
       "      <td>62.0</td>\n",
       "      <td>Hybrid</td>\n",
       "      <td>Large</td>\n",
       "      <td>3219496</td>\n",
       "    </tr>\n",
       "    <tr>\n",
       "      <th>2</th>\n",
       "      <td>Data Analyst</td>\n",
       "      <td>IT</td>\n",
       "      <td>Bachelor's</td>\n",
       "      <td>3.0</td>\n",
       "      <td>23.0</td>\n",
       "      <td>Male</td>\n",
       "      <td>Single</td>\n",
       "      <td>Bangalore</td>\n",
       "      <td>46.0</td>\n",
       "      <td>Remote</td>\n",
       "      <td>Large</td>\n",
       "      <td>1626459</td>\n",
       "    </tr>\n",
       "    <tr>\n",
       "      <th>3</th>\n",
       "      <td>Plant Supervisor</td>\n",
       "      <td>Manufacturing</td>\n",
       "      <td>High School</td>\n",
       "      <td>12.0</td>\n",
       "      <td>34.0</td>\n",
       "      <td>Male</td>\n",
       "      <td>Single</td>\n",
       "      <td>Bangalore</td>\n",
       "      <td>66.0</td>\n",
       "      <td>Hybrid</td>\n",
       "      <td>Large</td>\n",
       "      <td>1896991</td>\n",
       "    </tr>\n",
       "    <tr>\n",
       "      <th>4</th>\n",
       "      <td>DevOps Engineer</td>\n",
       "      <td>IT</td>\n",
       "      <td>Bachelor's</td>\n",
       "      <td>11.0</td>\n",
       "      <td>32.0</td>\n",
       "      <td>Male</td>\n",
       "      <td>Widowed</td>\n",
       "      <td>Bangalore</td>\n",
       "      <td>61.0</td>\n",
       "      <td>Hybrid</td>\n",
       "      <td>Large</td>\n",
       "      <td>2397320</td>\n",
       "    </tr>\n",
       "  </tbody>\n",
       "</table>\n",
       "</div>"
      ],
      "text/plain": [
       "          Job_Title       Industry Education_Level  Years_of_Experience   Age  \\\n",
       "0  Graphic Designer      Marketing        Master's                 19.0  39.0   \n",
       "1   Project Manager     Consulting     High School                 24.0  42.0   \n",
       "2      Data Analyst             IT      Bachelor's                  3.0  23.0   \n",
       "3  Plant Supervisor  Manufacturing     High School                 12.0  34.0   \n",
       "4   DevOps Engineer             IT      Bachelor's                 11.0  32.0   \n",
       "\n",
       "  Gender Marital_Status   Location  Hours_Per_Week Work_Mode Company_Size  \\\n",
       "0   Male        Married    Chicago            72.0   On-site        Large   \n",
       "1   Male        Married     Dallas            62.0    Hybrid        Large   \n",
       "2   Male         Single  Bangalore            46.0    Remote        Large   \n",
       "3   Male         Single  Bangalore            66.0    Hybrid        Large   \n",
       "4   Male        Widowed  Bangalore            61.0    Hybrid        Large   \n",
       "\n",
       "    Salary  \n",
       "0  2261929  \n",
       "1  3219496  \n",
       "2  1626459  \n",
       "3  1896991  \n",
       "4  2397320  "
      ]
     },
     "execution_count": 190,
     "metadata": {},
     "output_type": "execute_result"
    }
   ],
   "source": [
    "df.head()"
   ]
  },
  {
   "cell_type": "code",
   "execution_count": 191,
   "id": "eb33a211",
   "metadata": {},
   "outputs": [
    {
     "data": {
      "text/plain": [
       "(95000, 12)"
      ]
     },
     "execution_count": 191,
     "metadata": {},
     "output_type": "execute_result"
    }
   ],
   "source": [
    "df.shape"
   ]
  },
  {
   "cell_type": "code",
   "execution_count": 192,
   "id": "85f9bb6b",
   "metadata": {},
   "outputs": [
    {
     "name": "stdout",
     "output_type": "stream",
     "text": [
      "<class 'pandas.core.frame.DataFrame'>\n",
      "RangeIndex: 95000 entries, 0 to 94999\n",
      "Data columns (total 12 columns):\n",
      " #   Column               Non-Null Count  Dtype  \n",
      "---  ------               --------------  -----  \n",
      " 0   Job_Title            94033 non-null  object \n",
      " 1   Industry             93509 non-null  object \n",
      " 2   Education_Level      93841 non-null  object \n",
      " 3   Years_of_Experience  93471 non-null  float64\n",
      " 4   Age                  93432 non-null  float64\n",
      " 5   Gender               93837 non-null  object \n",
      " 6   Marital_Status       93165 non-null  object \n",
      " 7   Location             93139 non-null  object \n",
      " 8   Hours_Per_Week       93228 non-null  float64\n",
      " 9   Work_Mode            93832 non-null  object \n",
      " 10  Company_Size         93453 non-null  object \n",
      " 11  Salary               95000 non-null  int64  \n",
      "dtypes: float64(3), int64(1), object(8)\n",
      "memory usage: 8.7+ MB\n"
     ]
    }
   ],
   "source": [
    "df.info()"
   ]
  },
  {
   "cell_type": "code",
   "execution_count": 193,
   "id": "6fd3dc28",
   "metadata": {},
   "outputs": [
    {
     "data": {
      "text/plain": [
       "Index(['Job_Title', 'Industry', 'Education_Level', 'Years_of_Experience',\n",
       "       'Age', 'Gender', 'Marital_Status', 'Location', 'Hours_Per_Week',\n",
       "       'Work_Mode', 'Company_Size', 'Salary'],\n",
       "      dtype='object')"
      ]
     },
     "execution_count": 193,
     "metadata": {},
     "output_type": "execute_result"
    }
   ],
   "source": [
    "df.columns"
   ]
  },
  {
   "cell_type": "markdown",
   "id": "14daa002",
   "metadata": {},
   "source": [
    "# DATA CLEANING & TRANFORMATION"
   ]
  },
  {
   "cell_type": "code",
   "execution_count": 194,
   "id": "1341267b",
   "metadata": {},
   "outputs": [
    {
     "data": {
      "text/plain": [
       "Job_Title               967\n",
       "Industry               1491\n",
       "Education_Level        1159\n",
       "Years_of_Experience    1529\n",
       "Age                    1568\n",
       "Gender                 1163\n",
       "Marital_Status         1835\n",
       "Location               1861\n",
       "Hours_Per_Week         1772\n",
       "Work_Mode              1168\n",
       "Company_Size           1547\n",
       "Salary                    0\n",
       "dtype: int64"
      ]
     },
     "execution_count": 194,
     "metadata": {},
     "output_type": "execute_result"
    }
   ],
   "source": [
    "df.isnull().sum()"
   ]
  },
  {
   "cell_type": "code",
   "execution_count": 195,
   "id": "49daf4bd",
   "metadata": {},
   "outputs": [
    {
     "data": {
      "text/plain": [
       "Job_Title              1.017895\n",
       "Industry               1.569474\n",
       "Education_Level        1.220000\n",
       "Years_of_Experience    1.609474\n",
       "Age                    1.650526\n",
       "Gender                 1.224211\n",
       "Marital_Status         1.931579\n",
       "Location               1.958947\n",
       "Hours_Per_Week         1.865263\n",
       "Work_Mode              1.229474\n",
       "Company_Size           1.628421\n",
       "Salary                 0.000000\n",
       "dtype: float64"
      ]
     },
     "execution_count": 195,
     "metadata": {},
     "output_type": "execute_result"
    }
   ],
   "source": [
    "(df.isnull().sum()/len(df))*100"
   ]
  },
  {
   "cell_type": "code",
   "execution_count": 196,
   "id": "3be034a3",
   "metadata": {},
   "outputs": [
    {
     "data": {
      "text/plain": [
       "array(['Graphic Designer', 'Project Manager', 'Data Analyst',\n",
       "       'Plant Supervisor', 'DevOps Engineer', 'Medical Assistant',\n",
       "       'Business Analyst', 'Sales Associate', 'Financial Analyst',\n",
       "       'Digital Marketer', 'Marketing Manager', 'Legal Advisor',\n",
       "       'Quality Analyst', 'Teacher', 'Accountant', 'Data Scientist',\n",
       "       'Paralegal', 'Nurse', 'Professor', 'SEO Specialist', 'Doctor',\n",
       "       'Software Engineer', nan], dtype=object)"
      ]
     },
     "execution_count": 196,
     "metadata": {},
     "output_type": "execute_result"
    }
   ],
   "source": [
    "df['Job_Title'].unique()"
   ]
  },
  {
   "cell_type": "code",
   "execution_count": 197,
   "id": "1c840403",
   "metadata": {},
   "outputs": [],
   "source": [
    "df = df[~((df['Job_Title'].isnull()) & (df['Industry'].isnull()) & (df['Education_Level'].isnull()) & (df['Years_of_Experience'].isnull()) & \n",
    "   (df['Age'].isnull()) & (df['Gender'].isnull()) & (df['Marital_Status'].isnull()) & (df['Location'].isnull()) & (df['Hours_Per_Week'].isnull()) &\n",
    "   (df['Work_Mode'].isnull()) & (df['Company_Size'].isnull()))]"
   ]
  },
  {
   "cell_type": "code",
   "execution_count": 198,
   "id": "8718b9e7",
   "metadata": {},
   "outputs": [
    {
     "data": {
      "text/plain": [
       "(94033, 12)"
      ]
     },
     "execution_count": 198,
     "metadata": {},
     "output_type": "execute_result"
    }
   ],
   "source": [
    "df.shape"
   ]
  },
  {
   "cell_type": "code",
   "execution_count": 199,
   "id": "56f6e094",
   "metadata": {},
   "outputs": [
    {
     "data": {
      "text/plain": [
       "Job_Title                0\n",
       "Industry               524\n",
       "Education_Level        192\n",
       "Years_of_Experience    562\n",
       "Age                    601\n",
       "Gender                 196\n",
       "Marital_Status         868\n",
       "Location               894\n",
       "Hours_Per_Week         805\n",
       "Work_Mode              201\n",
       "Company_Size           580\n",
       "Salary                   0\n",
       "dtype: int64"
      ]
     },
     "execution_count": 199,
     "metadata": {},
     "output_type": "execute_result"
    }
   ],
   "source": [
    "df.isnull().sum()"
   ]
  },
  {
   "cell_type": "code",
   "execution_count": 200,
   "id": "03c10307",
   "metadata": {},
   "outputs": [
    {
     "data": {
      "text/plain": [
       "Job_Title              0.000000\n",
       "Industry               0.557251\n",
       "Education_Level        0.204184\n",
       "Years_of_Experience    0.597663\n",
       "Age                    0.639137\n",
       "Gender                 0.208437\n",
       "Marital_Status         0.923080\n",
       "Location               0.950730\n",
       "Hours_Per_Week         0.856082\n",
       "Work_Mode              0.213755\n",
       "Company_Size           0.616805\n",
       "Salary                 0.000000\n",
       "dtype: float64"
      ]
     },
     "execution_count": 200,
     "metadata": {},
     "output_type": "execute_result"
    }
   ],
   "source": [
    "(df.isnull().sum()/len(df))*100"
   ]
  },
  {
   "cell_type": "code",
   "execution_count": 201,
   "id": "0311f5e9",
   "metadata": {},
   "outputs": [
    {
     "data": {
      "text/plain": [
       "Industry\n",
       "Consulting                     [Project Manager, Business Analyst]\n",
       "Education                                     [Teacher, Professor]\n",
       "Finance          [Financial Analyst, Accountant, Business Analyst]\n",
       "Healthcare                      [Medical Assistant, Nurse, Doctor]\n",
       "IT               [Data Analyst, DevOps Engineer, Data Scientist...\n",
       "Legal                                   [Legal Advisor, Paralegal]\n",
       "Manufacturing                  [Plant Supervisor, Quality Analyst]\n",
       "Marketing        [Graphic Designer, Digital Marketer, Marketing...\n",
       "Retail                        [Sales Associate, Marketing Manager]\n",
       "Name: Job_Title, dtype: object"
      ]
     },
     "execution_count": 201,
     "metadata": {},
     "output_type": "execute_result"
    }
   ],
   "source": [
    "df.groupby('Industry')['Job_Title'].unique()"
   ]
  },
  {
   "cell_type": "code",
   "execution_count": 202,
   "id": "cdb1b8e3",
   "metadata": {},
   "outputs": [
    {
     "data": {
      "text/plain": [
       "Industry       Job_Title        \n",
       "Consulting     Project Manager      5266\n",
       "               Business Analyst     5230\n",
       "Education      Teacher              5128\n",
       "               Professor            5045\n",
       "Finance        Business Analyst     3502\n",
       "               Financial Analyst    3489\n",
       "               Accountant           3400\n",
       "Healthcare     Doctor               3458\n",
       "               Nurse                3398\n",
       "               Medical Assistant    3385\n",
       "IT             Project Manager      1796\n",
       "               Data Scientist       1760\n",
       "               DevOps Engineer      1751\n",
       "               Business Analyst     1730\n",
       "               Software Engineer    1706\n",
       "               Data Analyst         1698\n",
       "Legal          Paralegal            5239\n",
       "               Legal Advisor        5169\n",
       "Manufacturing  Plant Supervisor     5238\n",
       "               Quality Analyst      5178\n",
       "Marketing      Digital Marketer     2637\n",
       "               Marketing Manager    2633\n",
       "               SEO Specialist       2604\n",
       "               Graphic Designer     2599\n",
       "Retail         Marketing Manager    5280\n",
       "               Sales Associate      5190\n",
       "Name: count, dtype: int64"
      ]
     },
     "execution_count": 202,
     "metadata": {},
     "output_type": "execute_result"
    }
   ],
   "source": [
    "job_counts = df.groupby('Industry')['Job_Title'].value_counts()\n",
    "job_counts"
   ]
  },
  {
   "cell_type": "code",
   "execution_count": 203,
   "id": "f0fc99c7",
   "metadata": {},
   "outputs": [],
   "source": [
    "df['original_order'] = np.arange(len(df))"
   ]
  },
  {
   "cell_type": "code",
   "execution_count": 204,
   "id": "fd7afce9",
   "metadata": {},
   "outputs": [
    {
     "name": "stderr",
     "output_type": "stream",
     "text": [
      "C:\\Users\\mayan\\AppData\\Local\\Temp\\ipykernel_17484\\849499413.py:7: DeprecationWarning: DataFrameGroupBy.apply operated on the grouping columns. This behavior is deprecated, and in a future version of pandas the grouping columns will be excluded from the operation. Either pass `include_groups=False` to exclude the groupings or explicitly select the grouping columns after groupby to silence this warning.\n",
      "  df = df.groupby('Industry').apply(fill_job_title)\n"
     ]
    }
   ],
   "source": [
    "def fill_job_title(group):\n",
    "    mode = group['Job_Title'].mode()\n",
    "    if not mode.empty:\n",
    "        group['Job_Title'] = group['Job_Title'].fillna(mode[0])\n",
    "    return group\n",
    "\n",
    "df = df.groupby('Industry').apply(fill_job_title)"
   ]
  },
  {
   "cell_type": "code",
   "execution_count": 205,
   "id": "7aca319a",
   "metadata": {},
   "outputs": [],
   "source": [
    "df.reset_index(drop=True,inplace=True)"
   ]
  },
  {
   "cell_type": "code",
   "execution_count": 206,
   "id": "3ece5dd1",
   "metadata": {},
   "outputs": [],
   "source": [
    "df = df.sort_values('original_order').reset_index(drop=True)\n",
    "\n",
    "df.drop('original_order',axis=1,inplace=True)"
   ]
  },
  {
   "cell_type": "code",
   "execution_count": 207,
   "id": "9ceb9984",
   "metadata": {},
   "outputs": [
    {
     "data": {
      "text/plain": [
       "Industry       Job_Title        \n",
       "Consulting     Project Manager      5266\n",
       "               Business Analyst     5230\n",
       "Education      Teacher              5128\n",
       "               Professor            5045\n",
       "Finance        Business Analyst     3502\n",
       "               Financial Analyst    3489\n",
       "               Accountant           3400\n",
       "Healthcare     Doctor               3458\n",
       "               Nurse                3398\n",
       "               Medical Assistant    3385\n",
       "IT             Project Manager      1796\n",
       "               Data Scientist       1760\n",
       "               DevOps Engineer      1751\n",
       "               Business Analyst     1730\n",
       "               Software Engineer    1706\n",
       "               Data Analyst         1698\n",
       "Legal          Paralegal            5239\n",
       "               Legal Advisor        5169\n",
       "Manufacturing  Plant Supervisor     5238\n",
       "               Quality Analyst      5178\n",
       "Marketing      Digital Marketer     2637\n",
       "               Marketing Manager    2633\n",
       "               SEO Specialist       2604\n",
       "               Graphic Designer     2599\n",
       "Retail         Marketing Manager    5280\n",
       "               Sales Associate      5190\n",
       "Name: count, dtype: int64"
      ]
     },
     "execution_count": 207,
     "metadata": {},
     "output_type": "execute_result"
    }
   ],
   "source": [
    "df.groupby('Industry')['Job_Title'].value_counts()"
   ]
  },
  {
   "cell_type": "code",
   "execution_count": 208,
   "id": "c5aff16a",
   "metadata": {},
   "outputs": [
    {
     "data": {
      "text/html": [
       "<div>\n",
       "<style scoped>\n",
       "    .dataframe tbody tr th:only-of-type {\n",
       "        vertical-align: middle;\n",
       "    }\n",
       "\n",
       "    .dataframe tbody tr th {\n",
       "        vertical-align: top;\n",
       "    }\n",
       "\n",
       "    .dataframe thead th {\n",
       "        text-align: right;\n",
       "    }\n",
       "</style>\n",
       "<table border=\"1\" class=\"dataframe\">\n",
       "  <thead>\n",
       "    <tr style=\"text-align: right;\">\n",
       "      <th></th>\n",
       "      <th>Job_Title</th>\n",
       "      <th>Industry</th>\n",
       "      <th>Education_Level</th>\n",
       "      <th>Years_of_Experience</th>\n",
       "      <th>Age</th>\n",
       "      <th>Gender</th>\n",
       "      <th>Marital_Status</th>\n",
       "      <th>Location</th>\n",
       "      <th>Hours_Per_Week</th>\n",
       "      <th>Work_Mode</th>\n",
       "      <th>Company_Size</th>\n",
       "      <th>Salary</th>\n",
       "    </tr>\n",
       "  </thead>\n",
       "  <tbody>\n",
       "    <tr>\n",
       "      <th>0</th>\n",
       "      <td>Graphic Designer</td>\n",
       "      <td>Marketing</td>\n",
       "      <td>Master's</td>\n",
       "      <td>19.0</td>\n",
       "      <td>39.0</td>\n",
       "      <td>Male</td>\n",
       "      <td>Married</td>\n",
       "      <td>Chicago</td>\n",
       "      <td>72.0</td>\n",
       "      <td>On-site</td>\n",
       "      <td>Large</td>\n",
       "      <td>2261929</td>\n",
       "    </tr>\n",
       "    <tr>\n",
       "      <th>1</th>\n",
       "      <td>Project Manager</td>\n",
       "      <td>Consulting</td>\n",
       "      <td>High School</td>\n",
       "      <td>24.0</td>\n",
       "      <td>42.0</td>\n",
       "      <td>Male</td>\n",
       "      <td>Married</td>\n",
       "      <td>Dallas</td>\n",
       "      <td>62.0</td>\n",
       "      <td>Hybrid</td>\n",
       "      <td>Large</td>\n",
       "      <td>3219496</td>\n",
       "    </tr>\n",
       "    <tr>\n",
       "      <th>2</th>\n",
       "      <td>Data Analyst</td>\n",
       "      <td>IT</td>\n",
       "      <td>Bachelor's</td>\n",
       "      <td>3.0</td>\n",
       "      <td>23.0</td>\n",
       "      <td>Male</td>\n",
       "      <td>Single</td>\n",
       "      <td>Bangalore</td>\n",
       "      <td>46.0</td>\n",
       "      <td>Remote</td>\n",
       "      <td>Large</td>\n",
       "      <td>1626459</td>\n",
       "    </tr>\n",
       "    <tr>\n",
       "      <th>3</th>\n",
       "      <td>Plant Supervisor</td>\n",
       "      <td>Manufacturing</td>\n",
       "      <td>High School</td>\n",
       "      <td>12.0</td>\n",
       "      <td>34.0</td>\n",
       "      <td>Male</td>\n",
       "      <td>Single</td>\n",
       "      <td>Bangalore</td>\n",
       "      <td>66.0</td>\n",
       "      <td>Hybrid</td>\n",
       "      <td>Large</td>\n",
       "      <td>1896991</td>\n",
       "    </tr>\n",
       "    <tr>\n",
       "      <th>4</th>\n",
       "      <td>DevOps Engineer</td>\n",
       "      <td>IT</td>\n",
       "      <td>Bachelor's</td>\n",
       "      <td>11.0</td>\n",
       "      <td>32.0</td>\n",
       "      <td>Male</td>\n",
       "      <td>Widowed</td>\n",
       "      <td>Bangalore</td>\n",
       "      <td>61.0</td>\n",
       "      <td>Hybrid</td>\n",
       "      <td>Large</td>\n",
       "      <td>2397320</td>\n",
       "    </tr>\n",
       "  </tbody>\n",
       "</table>\n",
       "</div>"
      ],
      "text/plain": [
       "          Job_Title       Industry Education_Level  Years_of_Experience   Age  \\\n",
       "0  Graphic Designer      Marketing        Master's                 19.0  39.0   \n",
       "1   Project Manager     Consulting     High School                 24.0  42.0   \n",
       "2      Data Analyst             IT      Bachelor's                  3.0  23.0   \n",
       "3  Plant Supervisor  Manufacturing     High School                 12.0  34.0   \n",
       "4   DevOps Engineer             IT      Bachelor's                 11.0  32.0   \n",
       "\n",
       "  Gender Marital_Status   Location  Hours_Per_Week Work_Mode Company_Size  \\\n",
       "0   Male        Married    Chicago            72.0   On-site        Large   \n",
       "1   Male        Married     Dallas            62.0    Hybrid        Large   \n",
       "2   Male         Single  Bangalore            46.0    Remote        Large   \n",
       "3   Male         Single  Bangalore            66.0    Hybrid        Large   \n",
       "4   Male        Widowed  Bangalore            61.0    Hybrid        Large   \n",
       "\n",
       "    Salary  \n",
       "0  2261929  \n",
       "1  3219496  \n",
       "2  1626459  \n",
       "3  1896991  \n",
       "4  2397320  "
      ]
     },
     "execution_count": 208,
     "metadata": {},
     "output_type": "execute_result"
    }
   ],
   "source": [
    "df.head()"
   ]
  },
  {
   "cell_type": "code",
   "execution_count": 209,
   "id": "e04b8156",
   "metadata": {},
   "outputs": [
    {
     "data": {
      "text/plain": [
       "Job_Title                0\n",
       "Industry                 0\n",
       "Education_Level          0\n",
       "Years_of_Experience     38\n",
       "Age                     77\n",
       "Gender                   0\n",
       "Marital_Status         344\n",
       "Location               370\n",
       "Hours_Per_Week         281\n",
       "Work_Mode                0\n",
       "Company_Size            56\n",
       "Salary                   0\n",
       "dtype: int64"
      ]
     },
     "execution_count": 209,
     "metadata": {},
     "output_type": "execute_result"
    }
   ],
   "source": [
    "df.isnull().sum()"
   ]
  },
  {
   "cell_type": "code",
   "execution_count": 210,
   "id": "b9eabca5",
   "metadata": {},
   "outputs": [],
   "source": [
    "numeric_cols = ['Years_of_Experience','Age','Hours_Per_Week']\n",
    "\n",
    "for col in numeric_cols:\n",
    "    median_value = int(df[col].median())\n",
    "    df[col] = df[col].fillna(median_value)"
   ]
  },
  {
   "cell_type": "code",
   "execution_count": 211,
   "id": "304353b9",
   "metadata": {},
   "outputs": [
    {
     "data": {
      "text/plain": [
       "Job_Title                0\n",
       "Industry                 0\n",
       "Education_Level          0\n",
       "Years_of_Experience      0\n",
       "Age                      0\n",
       "Gender                   0\n",
       "Marital_Status         344\n",
       "Location               370\n",
       "Hours_Per_Week           0\n",
       "Work_Mode                0\n",
       "Company_Size            56\n",
       "Salary                   0\n",
       "dtype: int64"
      ]
     },
     "execution_count": 211,
     "metadata": {},
     "output_type": "execute_result"
    }
   ],
   "source": [
    "df.isnull().sum()"
   ]
  },
  {
   "cell_type": "code",
   "execution_count": 212,
   "id": "c7b6bd19",
   "metadata": {},
   "outputs": [],
   "source": [
    "def fill_categorical_by_group(df,group_col,target_col):\n",
    "    df[target_col] = df.groupby(group_col)[target_col].transform(lambda x : x.fillna(x.mode()[0] if not x.mode().empty else 'Unknown'))\n",
    "    return df\n",
    "\n",
    "categorical_columns = ['Education_Level','Gender','Marital_Status','Location','Work_Mode','Company_Size']\n",
    "\n",
    "for col in categorical_columns:\n",
    "    df = fill_categorical_by_group(df, group_col='Industry', target_col=col)"
   ]
  },
  {
   "cell_type": "code",
   "execution_count": 213,
   "id": "7adb6ae0",
   "metadata": {},
   "outputs": [
    {
     "data": {
      "text/html": [
       "<div>\n",
       "<style scoped>\n",
       "    .dataframe tbody tr th:only-of-type {\n",
       "        vertical-align: middle;\n",
       "    }\n",
       "\n",
       "    .dataframe tbody tr th {\n",
       "        vertical-align: top;\n",
       "    }\n",
       "\n",
       "    .dataframe thead th {\n",
       "        text-align: right;\n",
       "    }\n",
       "</style>\n",
       "<table border=\"1\" class=\"dataframe\">\n",
       "  <thead>\n",
       "    <tr style=\"text-align: right;\">\n",
       "      <th></th>\n",
       "      <th>Job_Title</th>\n",
       "      <th>Industry</th>\n",
       "      <th>Education_Level</th>\n",
       "      <th>Years_of_Experience</th>\n",
       "      <th>Age</th>\n",
       "      <th>Gender</th>\n",
       "      <th>Marital_Status</th>\n",
       "      <th>Location</th>\n",
       "      <th>Hours_Per_Week</th>\n",
       "      <th>Work_Mode</th>\n",
       "      <th>Company_Size</th>\n",
       "      <th>Salary</th>\n",
       "    </tr>\n",
       "  </thead>\n",
       "  <tbody>\n",
       "    <tr>\n",
       "      <th>0</th>\n",
       "      <td>Graphic Designer</td>\n",
       "      <td>Marketing</td>\n",
       "      <td>Master's</td>\n",
       "      <td>19.0</td>\n",
       "      <td>39.0</td>\n",
       "      <td>Male</td>\n",
       "      <td>Married</td>\n",
       "      <td>Chicago</td>\n",
       "      <td>72.0</td>\n",
       "      <td>On-site</td>\n",
       "      <td>Large</td>\n",
       "      <td>2261929</td>\n",
       "    </tr>\n",
       "    <tr>\n",
       "      <th>1</th>\n",
       "      <td>Project Manager</td>\n",
       "      <td>Consulting</td>\n",
       "      <td>High School</td>\n",
       "      <td>24.0</td>\n",
       "      <td>42.0</td>\n",
       "      <td>Male</td>\n",
       "      <td>Married</td>\n",
       "      <td>Dallas</td>\n",
       "      <td>62.0</td>\n",
       "      <td>Hybrid</td>\n",
       "      <td>Large</td>\n",
       "      <td>3219496</td>\n",
       "    </tr>\n",
       "    <tr>\n",
       "      <th>2</th>\n",
       "      <td>Data Analyst</td>\n",
       "      <td>IT</td>\n",
       "      <td>Bachelor's</td>\n",
       "      <td>3.0</td>\n",
       "      <td>23.0</td>\n",
       "      <td>Male</td>\n",
       "      <td>Single</td>\n",
       "      <td>Bangalore</td>\n",
       "      <td>46.0</td>\n",
       "      <td>Remote</td>\n",
       "      <td>Large</td>\n",
       "      <td>1626459</td>\n",
       "    </tr>\n",
       "    <tr>\n",
       "      <th>3</th>\n",
       "      <td>Plant Supervisor</td>\n",
       "      <td>Manufacturing</td>\n",
       "      <td>High School</td>\n",
       "      <td>12.0</td>\n",
       "      <td>34.0</td>\n",
       "      <td>Male</td>\n",
       "      <td>Single</td>\n",
       "      <td>Bangalore</td>\n",
       "      <td>66.0</td>\n",
       "      <td>Hybrid</td>\n",
       "      <td>Large</td>\n",
       "      <td>1896991</td>\n",
       "    </tr>\n",
       "    <tr>\n",
       "      <th>4</th>\n",
       "      <td>DevOps Engineer</td>\n",
       "      <td>IT</td>\n",
       "      <td>Bachelor's</td>\n",
       "      <td>11.0</td>\n",
       "      <td>32.0</td>\n",
       "      <td>Male</td>\n",
       "      <td>Widowed</td>\n",
       "      <td>Bangalore</td>\n",
       "      <td>61.0</td>\n",
       "      <td>Hybrid</td>\n",
       "      <td>Large</td>\n",
       "      <td>2397320</td>\n",
       "    </tr>\n",
       "  </tbody>\n",
       "</table>\n",
       "</div>"
      ],
      "text/plain": [
       "          Job_Title       Industry Education_Level  Years_of_Experience   Age  \\\n",
       "0  Graphic Designer      Marketing        Master's                 19.0  39.0   \n",
       "1   Project Manager     Consulting     High School                 24.0  42.0   \n",
       "2      Data Analyst             IT      Bachelor's                  3.0  23.0   \n",
       "3  Plant Supervisor  Manufacturing     High School                 12.0  34.0   \n",
       "4   DevOps Engineer             IT      Bachelor's                 11.0  32.0   \n",
       "\n",
       "  Gender Marital_Status   Location  Hours_Per_Week Work_Mode Company_Size  \\\n",
       "0   Male        Married    Chicago            72.0   On-site        Large   \n",
       "1   Male        Married     Dallas            62.0    Hybrid        Large   \n",
       "2   Male         Single  Bangalore            46.0    Remote        Large   \n",
       "3   Male         Single  Bangalore            66.0    Hybrid        Large   \n",
       "4   Male        Widowed  Bangalore            61.0    Hybrid        Large   \n",
       "\n",
       "    Salary  \n",
       "0  2261929  \n",
       "1  3219496  \n",
       "2  1626459  \n",
       "3  1896991  \n",
       "4  2397320  "
      ]
     },
     "execution_count": 213,
     "metadata": {},
     "output_type": "execute_result"
    }
   ],
   "source": [
    "df.head()"
   ]
  },
  {
   "cell_type": "code",
   "execution_count": 214,
   "id": "9b2af940",
   "metadata": {},
   "outputs": [
    {
     "data": {
      "text/plain": [
       "Job_Title              0\n",
       "Industry               0\n",
       "Education_Level        0\n",
       "Years_of_Experience    0\n",
       "Age                    0\n",
       "Gender                 0\n",
       "Marital_Status         0\n",
       "Location               0\n",
       "Hours_Per_Week         0\n",
       "Work_Mode              0\n",
       "Company_Size           0\n",
       "Salary                 0\n",
       "dtype: int64"
      ]
     },
     "execution_count": 214,
     "metadata": {},
     "output_type": "execute_result"
    }
   ],
   "source": [
    "df.isnull().sum()"
   ]
  },
  {
   "cell_type": "code",
   "execution_count": 215,
   "id": "8db30668",
   "metadata": {},
   "outputs": [
    {
     "data": {
      "image/png": "[encoded data removed]",
      "text/plain": [
       "<Figure size 640x480 with 1 Axes>"
      ]
     },
     "metadata": {},
     "output_type": "display_data"
    }
   ],
   "source": [
    "plt.boxplot(df['Salary'])\n",
    "plt.show()"
   ]
  },
  {
   "cell_type": "markdown",
   "id": "71a479fe",
   "metadata": {},
   "source": [
    "# CORRELATION"
   ]
  },
  {
   "cell_type": "code",
   "execution_count": 216,
   "id": "f5598646",
   "metadata": {},
   "outputs": [
    {
     "data": {
      "text/plain": [
       "Years_of_Experience    0.914207\n",
       "Age                    0.900656\n",
       "Hours_Per_Week        -0.001619\n",
       "Salary                 1.000000\n",
       "Name: Salary, dtype: float64"
      ]
     },
     "execution_count": 216,
     "metadata": {},
     "output_type": "execute_result"
    }
   ],
   "source": [
    "numeric = ['Years_of_Experience','Age','Hours_Per_Week','Salary']\n",
    "\n",
    "df[numeric].corr()['Salary']"
   ]
  },
  {
   "cell_type": "code",
   "execution_count": 217,
   "id": "b90419f1",
   "metadata": {},
   "outputs": [
    {
     "name": "stdout",
     "output_type": "stream",
     "text": [
      "Job_Title: F = 663.59, p = 0.00000\n",
      "Industry: F = 1178.86, p = 0.00000\n",
      "Education_Level: F = 30.31, p = 0.00000\n",
      "Gender: F = 0.46, p = 0.63372\n",
      "Marital_Status: F = 1.08, p = 0.35628\n",
      "Location: F = 93.53, p = 0.00000\n",
      "Work_Mode: F = 0.12, p = 0.88638\n",
      "Company_Size: F = 775.88, p = 0.00000\n"
     ]
    }
   ],
   "source": [
    "categorical_columns = ['Job_Title','Industry','Education_Level','Gender','Marital_Status','Location','Work_Mode','Company_Size']\n",
    "\n",
    "for col in categorical_columns:\n",
    "    groups = [group['Salary'].values for name,group in df.groupby(col)]\n",
    "    f_stat,p_val = stats.f_oneway(*groups)\n",
    "    print(f\"{col}: F = {f_stat:.2f}, p = {p_val:.5f}\")"
   ]
  },
  {
   "cell_type": "markdown",
   "id": "836f2263",
   "metadata": {},
   "source": [
    "# MODEL BUILDING"
   ]
  },
  {
   "cell_type": "code",
   "execution_count": 218,
   "id": "1b7daf70",
   "metadata": {},
   "outputs": [],
   "source": [
    "categorical_cols = ['Job_Title', 'Industry', 'Education_Level', 'Gender', 'Marital_Status',\n",
    "                    'Location', 'Work_Mode', 'Company_Size']\n",
    "label_encoders = {}\n",
    "for col in categorical_cols:\n",
    "    le = LabelEncoder()\n",
    "    df[col] = le.fit_transform(df[col])\n",
    "    label_encoders[col] = le"
   ]
  },
  {
   "cell_type": "code",
   "execution_count": 219,
   "id": "d19c31b2",
   "metadata": {},
   "outputs": [
    {
     "data": {
      "text/html": [
       "<div>\n",
       "<style scoped>\n",
       "    .dataframe tbody tr th:only-of-type {\n",
       "        vertical-align: middle;\n",
       "    }\n",
       "\n",
       "    .dataframe tbody tr th {\n",
       "        vertical-align: top;\n",
       "    }\n",
       "\n",
       "    .dataframe thead th {\n",
       "        text-align: right;\n",
       "    }\n",
       "</style>\n",
       "<table border=\"1\" class=\"dataframe\">\n",
       "  <thead>\n",
       "    <tr style=\"text-align: right;\">\n",
       "      <th></th>\n",
       "      <th>Job_Title</th>\n",
       "      <th>Industry</th>\n",
       "      <th>Education_Level</th>\n",
       "      <th>Years_of_Experience</th>\n",
       "      <th>Age</th>\n",
       "      <th>Gender</th>\n",
       "      <th>Marital_Status</th>\n",
       "      <th>Location</th>\n",
       "      <th>Hours_Per_Week</th>\n",
       "      <th>Work_Mode</th>\n",
       "      <th>Company_Size</th>\n",
       "      <th>Salary</th>\n",
       "    </tr>\n",
       "  </thead>\n",
       "  <tbody>\n",
       "    <tr>\n",
       "      <th>0</th>\n",
       "      <td>8</td>\n",
       "      <td>7</td>\n",
       "      <td>2</td>\n",
       "      <td>19.0</td>\n",
       "      <td>39.0</td>\n",
       "      <td>1</td>\n",
       "      <td>1</td>\n",
       "      <td>3</td>\n",
       "      <td>72.0</td>\n",
       "      <td>1</td>\n",
       "      <td>0</td>\n",
       "      <td>2261929</td>\n",
       "    </tr>\n",
       "    <tr>\n",
       "      <th>1</th>\n",
       "      <td>16</td>\n",
       "      <td>0</td>\n",
       "      <td>1</td>\n",
       "      <td>24.0</td>\n",
       "      <td>42.0</td>\n",
       "      <td>1</td>\n",
       "      <td>1</td>\n",
       "      <td>4</td>\n",
       "      <td>62.0</td>\n",
       "      <td>0</td>\n",
       "      <td>0</td>\n",
       "      <td>3219496</td>\n",
       "    </tr>\n",
       "    <tr>\n",
       "      <th>2</th>\n",
       "      <td>2</td>\n",
       "      <td>4</td>\n",
       "      <td>0</td>\n",
       "      <td>3.0</td>\n",
       "      <td>23.0</td>\n",
       "      <td>1</td>\n",
       "      <td>2</td>\n",
       "      <td>2</td>\n",
       "      <td>46.0</td>\n",
       "      <td>2</td>\n",
       "      <td>0</td>\n",
       "      <td>1626459</td>\n",
       "    </tr>\n",
       "    <tr>\n",
       "      <th>3</th>\n",
       "      <td>14</td>\n",
       "      <td>6</td>\n",
       "      <td>1</td>\n",
       "      <td>12.0</td>\n",
       "      <td>34.0</td>\n",
       "      <td>1</td>\n",
       "      <td>2</td>\n",
       "      <td>2</td>\n",
       "      <td>66.0</td>\n",
       "      <td>0</td>\n",
       "      <td>0</td>\n",
       "      <td>1896991</td>\n",
       "    </tr>\n",
       "    <tr>\n",
       "      <th>4</th>\n",
       "      <td>4</td>\n",
       "      <td>4</td>\n",
       "      <td>0</td>\n",
       "      <td>11.0</td>\n",
       "      <td>32.0</td>\n",
       "      <td>1</td>\n",
       "      <td>3</td>\n",
       "      <td>2</td>\n",
       "      <td>61.0</td>\n",
       "      <td>0</td>\n",
       "      <td>0</td>\n",
       "      <td>2397320</td>\n",
       "    </tr>\n",
       "  </tbody>\n",
       "</table>\n",
       "</div>"
      ],
      "text/plain": [
       "   Job_Title  Industry  Education_Level  Years_of_Experience   Age  Gender  \\\n",
       "0          8         7                2                 19.0  39.0       1   \n",
       "1         16         0                1                 24.0  42.0       1   \n",
       "2          2         4                0                  3.0  23.0       1   \n",
       "3         14         6                1                 12.0  34.0       1   \n",
       "4          4         4                0                 11.0  32.0       1   \n",
       "\n",
       "   Marital_Status  Location  Hours_Per_Week  Work_Mode  Company_Size   Salary  \n",
       "0               1         3            72.0          1             0  2261929  \n",
       "1               1         4            62.0          0             0  3219496  \n",
       "2               2         2            46.0          2             0  1626459  \n",
       "3               2         2            66.0          0             0  1896991  \n",
       "4               3         2            61.0          0             0  2397320  "
      ]
     },
     "execution_count": 219,
     "metadata": {},
     "output_type": "execute_result"
    }
   ],
   "source": [
    "df.head()"
   ]
  },
  {
   "cell_type": "code",
   "execution_count": 220,
   "id": "fd520d8b",
   "metadata": {},
   "outputs": [],
   "source": [
    "numerical_cols = ['Years_of_Experience', 'Age']\n",
    "scaler = StandardScaler()\n",
    "df[numerical_cols] = scaler.fit_transform(df[numerical_cols])"
   ]
  },
  {
   "cell_type": "code",
   "execution_count": 221,
   "id": "65cb5942",
   "metadata": {},
   "outputs": [
    {
     "data": {
      "text/html": [
       "<div>\n",
       "<style scoped>\n",
       "    .dataframe tbody tr th:only-of-type {\n",
       "        vertical-align: middle;\n",
       "    }\n",
       "\n",
       "    .dataframe tbody tr th {\n",
       "        vertical-align: top;\n",
       "    }\n",
       "\n",
       "    .dataframe thead th {\n",
       "        text-align: right;\n",
       "    }\n",
       "</style>\n",
       "<table border=\"1\" class=\"dataframe\">\n",
       "  <thead>\n",
       "    <tr style=\"text-align: right;\">\n",
       "      <th></th>\n",
       "      <th>Job_Title</th>\n",
       "      <th>Industry</th>\n",
       "      <th>Education_Level</th>\n",
       "      <th>Years_of_Experience</th>\n",
       "      <th>Age</th>\n",
       "      <th>Gender</th>\n",
       "      <th>Marital_Status</th>\n",
       "      <th>Location</th>\n",
       "      <th>Hours_Per_Week</th>\n",
       "      <th>Work_Mode</th>\n",
       "      <th>Company_Size</th>\n",
       "      <th>Salary</th>\n",
       "    </tr>\n",
       "  </thead>\n",
       "  <tbody>\n",
       "    <tr>\n",
       "      <th>0</th>\n",
       "      <td>8</td>\n",
       "      <td>7</td>\n",
       "      <td>2</td>\n",
       "      <td>-0.080827</td>\n",
       "      <td>-0.163759</td>\n",
       "      <td>1</td>\n",
       "      <td>1</td>\n",
       "      <td>3</td>\n",
       "      <td>72.0</td>\n",
       "      <td>1</td>\n",
       "      <td>0</td>\n",
       "      <td>2261929</td>\n",
       "    </tr>\n",
       "    <tr>\n",
       "      <th>1</th>\n",
       "      <td>16</td>\n",
       "      <td>0</td>\n",
       "      <td>1</td>\n",
       "      <td>0.342261</td>\n",
       "      <td>0.086647</td>\n",
       "      <td>1</td>\n",
       "      <td>1</td>\n",
       "      <td>4</td>\n",
       "      <td>62.0</td>\n",
       "      <td>0</td>\n",
       "      <td>0</td>\n",
       "      <td>3219496</td>\n",
       "    </tr>\n",
       "    <tr>\n",
       "      <th>2</th>\n",
       "      <td>2</td>\n",
       "      <td>4</td>\n",
       "      <td>0</td>\n",
       "      <td>-1.434707</td>\n",
       "      <td>-1.499257</td>\n",
       "      <td>1</td>\n",
       "      <td>2</td>\n",
       "      <td>2</td>\n",
       "      <td>46.0</td>\n",
       "      <td>2</td>\n",
       "      <td>0</td>\n",
       "      <td>1626459</td>\n",
       "    </tr>\n",
       "    <tr>\n",
       "      <th>3</th>\n",
       "      <td>14</td>\n",
       "      <td>6</td>\n",
       "      <td>1</td>\n",
       "      <td>-0.673149</td>\n",
       "      <td>-0.581102</td>\n",
       "      <td>1</td>\n",
       "      <td>2</td>\n",
       "      <td>2</td>\n",
       "      <td>66.0</td>\n",
       "      <td>0</td>\n",
       "      <td>0</td>\n",
       "      <td>1896991</td>\n",
       "    </tr>\n",
       "    <tr>\n",
       "      <th>4</th>\n",
       "      <td>4</td>\n",
       "      <td>4</td>\n",
       "      <td>0</td>\n",
       "      <td>-0.757767</td>\n",
       "      <td>-0.748039</td>\n",
       "      <td>1</td>\n",
       "      <td>3</td>\n",
       "      <td>2</td>\n",
       "      <td>61.0</td>\n",
       "      <td>0</td>\n",
       "      <td>0</td>\n",
       "      <td>2397320</td>\n",
       "    </tr>\n",
       "  </tbody>\n",
       "</table>\n",
       "</div>"
      ],
      "text/plain": [
       "   Job_Title  Industry  Education_Level  Years_of_Experience       Age  \\\n",
       "0          8         7                2            -0.080827 -0.163759   \n",
       "1         16         0                1             0.342261  0.086647   \n",
       "2          2         4                0            -1.434707 -1.499257   \n",
       "3         14         6                1            -0.673149 -0.581102   \n",
       "4          4         4                0            -0.757767 -0.748039   \n",
       "\n",
       "   Gender  Marital_Status  Location  Hours_Per_Week  Work_Mode  Company_Size  \\\n",
       "0       1               1         3            72.0          1             0   \n",
       "1       1               1         4            62.0          0             0   \n",
       "2       1               2         2            46.0          2             0   \n",
       "3       1               2         2            66.0          0             0   \n",
       "4       1               3         2            61.0          0             0   \n",
       "\n",
       "    Salary  \n",
       "0  2261929  \n",
       "1  3219496  \n",
       "2  1626459  \n",
       "3  1896991  \n",
       "4  2397320  "
      ]
     },
     "execution_count": 221,
     "metadata": {},
     "output_type": "execute_result"
    }
   ],
   "source": [
    "df.head()"
   ]
  },
  {
   "cell_type": "code",
   "execution_count": 222,
   "id": "ad705acf",
   "metadata": {},
   "outputs": [],
   "source": [
    "x = df[['Job_Title','Industry','Education_Level','Years_of_Experience','Age','Location','Company_Size']]\n",
    "y = df['Salary']"
   ]
  },
  {
   "cell_type": "code",
   "execution_count": 223,
   "id": "b25eb128",
   "metadata": {},
   "outputs": [],
   "source": [
    "x_train, x_test, y_train, y_test = train_test_split(x,y,test_size=0.20,random_state=42)"
   ]
  },
  {
   "cell_type": "code",
   "execution_count": 224,
   "id": "364c10f2",
   "metadata": {},
   "outputs": [
    {
     "name": "stdout",
     "output_type": "stream",
     "text": [
      "(74807, 7)\n",
      "(74807,)\n",
      "(18702, 7)\n",
      "(18702,)\n"
     ]
    }
   ],
   "source": [
    "print(x_train.shape)\n",
    "print(y_train.shape)\n",
    "print(x_test.shape)\n",
    "print(y_test.shape)"
   ]
  },
  {
   "cell_type": "code",
   "execution_count": 225,
   "id": "1394ec35",
   "metadata": {},
   "outputs": [],
   "source": [
    "models = {\n",
    "    \"K-Nearest Neighbors\": KNeighborsRegressor(n_neighbors=15,weights='uniform'),\n",
    "    \"Decision Tree\": DecisionTreeRegressor(max_depth=10,min_samples_leaf=20,min_samples_split=20),\n",
    "    \"Random Forest\": RandomForestRegressor(n_estimators=10,max_depth=8,min_samples_leaf=30,min_samples_split=30),\n",
    "    \"Gradient Boosting\": GradientBoostingRegressor(n_estimators=3,learning_rate = 1,max_depth=5,min_samples_leaf=40,min_samples_split=40)\n",
    "}"
   ]
  },
  {
   "cell_type": "code",
   "execution_count": 226,
   "id": "5b029802",
   "metadata": {},
   "outputs": [],
   "source": [
    "results = {}\n",
    "for name, model in models.items():\n",
    "    model.fit(x_train, y_train)\n",
    "    y_pred = model.predict(x_test)\n",
    "    mae = mean_absolute_error(y_test, y_pred)\n",
    "    mse = mean_squared_error(y_test, y_pred)\n",
    "    rmse = np.sqrt(mse)\n",
    "    r2 = r2_score(y_test, y_pred)\n",
    "    results[name] = {\n",
    "        \"Model\": model,\n",
    "        \"MAE\": mae,\n",
    "        \"MSE\": mse,\n",
    "        \"RMSE\": rmse,\n",
    "        \"R2 Score\": r2\n",
    "    }"
   ]
  },
  {
   "cell_type": "code",
   "execution_count": 227,
   "id": "74fe747a",
   "metadata": {},
   "outputs": [
    {
     "name": "stdout",
     "output_type": "stream",
     "text": [
      "\n",
      "Model Evaluation Results:\n",
      "\n",
      "K-Nearest Neighbors Regressor:\n",
      "MAE: 94435.34\n",
      "MSE: 14249095663.97\n",
      "RMSE: 119369.58\n",
      "R2 Score: 0.9762\n",
      "\n",
      "Decision Tree Regressor:\n",
      "MAE: 104144.54\n",
      "MSE: 17566049941.53\n",
      "RMSE: 132536.98\n",
      "R2 Score: 0.9706\n",
      "\n",
      "Random Forest Regressor:\n",
      "MAE: 114102.90\n",
      "MSE: 21292189034.42\n",
      "RMSE: 145918.43\n",
      "R2 Score: 0.9644\n",
      "\n",
      "Gradient Boosting Regressor:\n",
      "MAE: 109034.43\n",
      "MSE: 19190393310.91\n",
      "RMSE: 138529.40\n",
      "R2 Score: 0.9679\n"
     ]
    }
   ],
   "source": [
    "print(\"\\nModel Evaluation Results:\")\n",
    "for name, metrics in results.items():\n",
    "    print(f\"\\n{name} Regressor:\")\n",
    "    print(f\"MAE: {metrics['MAE']:.2f}\")\n",
    "    print(f\"MSE: {metrics['MSE']:.2f}\")\n",
    "    print(f\"RMSE: {metrics['RMSE']:.2f}\")\n",
    "    print(f\"R2 Score: {metrics['R2 Score']:.4f}\")"
   ]
  },
  {
   "cell_type": "code",
   "execution_count": 228,
   "id": "9504c851",
   "metadata": {},
   "outputs": [
    {
     "name": "stdout",
     "output_type": "stream",
     "text": [
      "\n",
      "✅ Best model 'K-Nearest Neighbors' saved as 'salary_model.pkl'\n"
     ]
    }
   ],
   "source": [
    "best_model_name = max(results, key=lambda x: results[x][\"R2 Score\"])\n",
    "best_model = results[best_model_name][\"Model\"]\n",
    "joblib.dump(best_model, 'salary_model.pkl')\n",
    "print(f\"\\n✅ Best model '{best_model_name}' saved as 'salary_model.pkl'\")"
   ]
  },
  {
   "cell_type": "code",
   "execution_count": 229,
   "id": "7c2b0598",
   "metadata": {},
   "outputs": [
    {
     "name": "stdout",
     "output_type": "stream",
     "text": [
      "✅ Scaler saved as 'scaler.pkl'\n"
     ]
    }
   ],
   "source": [
    "joblib.dump(scaler, 'scaler.pkl')\n",
    "print(\"✅ Scaler saved as 'scaler.pkl'\")"
   ]
  },
  {
   "cell_type": "code",
   "execution_count": 230,
   "id": "c02b06ce",
   "metadata": {},
   "outputs": [
    {
     "name": "stdout",
     "output_type": "stream",
     "text": [
      "✅ Feature columns saved as 'feature_columns.pkl'\n"
     ]
    }
   ],
   "source": [
    "feature_columns = list(x.columns)\n",
    "joblib.dump(feature_columns, 'feature_columns.pkl')\n",
    "print(\"✅ Feature columns saved as 'feature_columns.pkl'\")"
   ]
  },
  {
   "cell_type": "code",
   "execution_count": 231,
   "id": "ec0b60e8",
   "metadata": {},
   "outputs": [
    {
     "name": "stdout",
     "output_type": "stream",
     "text": [
      "✅ Label encoders saved as 'label_encoders.pkl'\n"
     ]
    }
   ],
   "source": [
    "joblib.dump(label_encoders, 'label_encoders.pkl')\n",
    "print(\"✅ Label encoders saved as 'label_encoders.pkl'\")"
   ]
  }
 ],
 "metadata": {
  "kernelspec": {
   "display_name": "Python 3",
   "language": "python",
   "name": "python3"
  },
  "language_info": {
   "codemirror_mode": {
    "name": "ipython",
    "version": 3
   },
   "file_extension": ".py",
   "mimetype": "text/x-python",
   "name": "python",
   "nbconvert_exporter": "python",
   "pygments_lexer": "ipython3",
   "version": "3.13.1"
  }
 },
 "nbformat": 4,
 "nbformat_minor": 5
}
